{
 "cells": [
  {
   "cell_type": "code",
   "execution_count": 1,
   "id": "initial_id",
   "metadata": {
    "collapsed": true,
    "ExecuteTime": {
     "end_time": "2024-07-21T06:29:00.371944Z",
     "start_time": "2024-07-21T06:29:00.354608Z"
    }
   },
   "outputs": [],
   "source": [
    "numbers = [1,2,3,4,5]"
   ]
  },
  {
   "cell_type": "code",
   "execution_count": 3,
   "outputs": [
    {
     "data": {
      "text/plain": "[False, True, False, True, False]"
     },
     "execution_count": 3,
     "metadata": {},
     "output_type": "execute_result"
    }
   ],
   "source": [
    "list(map(lambda num: num %2 == 0, numbers))"
   ],
   "metadata": {
    "collapsed": false,
    "ExecuteTime": {
     "end_time": "2024-07-21T06:29:33.734871Z",
     "start_time": "2024-07-21T06:29:33.721386Z"
    }
   },
   "id": "4bb0d2abd3982074"
  },
  {
   "cell_type": "code",
   "execution_count": 4,
   "outputs": [
    {
     "data": {
      "text/plain": "[1, 4, 9, 16, 25]"
     },
     "execution_count": 4,
     "metadata": {},
     "output_type": "execute_result"
    }
   ],
   "source": [
    "#square a list of numbers\n",
    "list(map(lambda num: num ** 2, numbers))"
   ],
   "metadata": {
    "collapsed": false,
    "ExecuteTime": {
     "end_time": "2024-07-21T06:30:21.701199Z",
     "start_time": "2024-07-21T06:30:21.680616Z"
    }
   },
   "id": "ae58fbc9ff479c5c"
  },
  {
   "cell_type": "code",
   "execution_count": 5,
   "outputs": [
    {
     "data": {
      "text/plain": "[1, 8, 27, 64, 125]"
     },
     "execution_count": 5,
     "metadata": {},
     "output_type": "execute_result"
    }
   ],
   "source": [
    "list(map(lambda num: num ** 3, numbers))"
   ],
   "metadata": {
    "collapsed": false,
    "ExecuteTime": {
     "end_time": "2024-07-21T06:30:39.211105Z",
     "start_time": "2024-07-21T06:30:39.195348Z"
    }
   },
   "id": "f592714bd347e193"
  },
  {
   "cell_type": "code",
   "execution_count": 6,
   "outputs": [],
   "source": [
    "list1, list2 = [1,2,3,4,5], [6,7,8,9,10]"
   ],
   "metadata": {
    "collapsed": false,
    "ExecuteTime": {
     "end_time": "2024-07-21T06:31:18.262727Z",
     "start_time": "2024-07-21T06:31:18.242779Z"
    }
   },
   "id": "974969aa23792103"
  },
  {
   "cell_type": "code",
   "execution_count": 7,
   "outputs": [
    {
     "data": {
      "text/plain": "[7, 9, 11, 13, 15]"
     },
     "execution_count": 7,
     "metadata": {},
     "output_type": "execute_result"
    }
   ],
   "source": [
    "list(map(lambda a, b:, list1, list2))"
   ],
   "metadata": {
    "collapsed": false,
    "ExecuteTime": {
     "end_time": "2024-07-21T06:31:44.526981Z",
     "start_time": "2024-07-21T06:31:44.508408Z"
    }
   },
   "id": "d25cf1b71338b1f2"
  },
  {
   "cell_type": "code",
   "execution_count": 8,
   "outputs": [
    {
     "data": {
      "text/plain": "[1, 2, 3, 4, 5, 6]"
     },
     "execution_count": 8,
     "metadata": {},
     "output_type": "execute_result"
    }
   ],
   "source": [
    "#convert from one dtype to another dtype\n",
    "list(map(lambda num: int(num), ['1', '2','3','4','5','6']))"
   ],
   "metadata": {
    "collapsed": false,
    "ExecuteTime": {
     "end_time": "2024-07-21T06:32:56.783176Z",
     "start_time": "2024-07-21T06:32:56.773322Z"
    }
   },
   "id": "6790cb908a6be78"
  },
  {
   "cell_type": "code",
   "execution_count": 11,
   "outputs": [
    {
     "data": {
      "text/plain": "['Anil', 'Thapa', 'Andrew', 'Boston']"
     },
     "execution_count": 11,
     "metadata": {},
     "output_type": "execute_result"
    }
   ],
   "source": [
    "#capitalize the list of numbers\n",
    "list(map(str.capitalize, ['anil','thapa', 'andrew', 'boston']))"
   ],
   "metadata": {
    "collapsed": false,
    "ExecuteTime": {
     "end_time": "2024-07-21T06:33:55.811709Z",
     "start_time": "2024-07-21T06:33:55.798761Z"
    }
   },
   "id": "e63f80c97832f347"
  },
  {
   "cell_type": "code",
   "execution_count": 15,
   "outputs": [],
   "source": [
    "#convert temperature in celcius to farenheit\n",
    "def celcius_to_farenheit(celcius):\n",
    "    return (9/5*celcius) + 32"
   ],
   "metadata": {
    "collapsed": false,
    "ExecuteTime": {
     "end_time": "2024-07-21T06:37:06.793307Z",
     "start_time": "2024-07-21T06:37:06.784010Z"
    }
   },
   "id": "2ec3ff758083b88a"
  },
  {
   "cell_type": "code",
   "execution_count": 16,
   "outputs": [],
   "source": [
    "celcius_temps = [18, 25, 35, 5, 9]"
   ],
   "metadata": {
    "collapsed": false,
    "ExecuteTime": {
     "end_time": "2024-07-21T06:37:07.344046Z",
     "start_time": "2024-07-21T06:37:07.332834Z"
    }
   },
   "id": "8fd66fe888b7342"
  },
  {
   "cell_type": "code",
   "execution_count": 17,
   "outputs": [
    {
     "data": {
      "text/plain": "[64.4, 77.0, 95.0, 41.0, 48.2]"
     },
     "execution_count": 17,
     "metadata": {},
     "output_type": "execute_result"
    }
   ],
   "source": [
    "list(map(celcius_to_farenheit, celcius_temps))"
   ],
   "metadata": {
    "collapsed": false,
    "ExecuteTime": {
     "end_time": "2024-07-21T06:37:07.523987Z",
     "start_time": "2024-07-21T06:37:07.512928Z"
    }
   },
   "id": "e79c9f37292ab5b1"
  },
  {
   "cell_type": "code",
   "execution_count": 18,
   "outputs": [],
   "source": [
    "#calculate the length of each string"
   ],
   "metadata": {
    "collapsed": false,
    "ExecuteTime": {
     "end_time": "2024-07-21T06:37:21.681005Z",
     "start_time": "2024-07-21T06:37:21.668880Z"
    }
   },
   "id": "3d7bf9dbe973f612"
  },
  {
   "cell_type": "code",
   "execution_count": 19,
   "outputs": [],
   "source": [
    "strings = ['Andrew', 'Thapa', 'is','my','name','And','I','Love','being', 'here']"
   ],
   "metadata": {
    "collapsed": false,
    "ExecuteTime": {
     "end_time": "2024-07-21T06:37:46.138386Z",
     "start_time": "2024-07-21T06:37:46.116776Z"
    }
   },
   "id": "eb02af9460200164"
  },
  {
   "cell_type": "code",
   "execution_count": 20,
   "outputs": [
    {
     "data": {
      "text/plain": "[6, 5, 2, 2, 4, 3, 1, 4, 5, 4]"
     },
     "execution_count": 20,
     "metadata": {},
     "output_type": "execute_result"
    }
   ],
   "source": [
    "list(map(len, strings))"
   ],
   "metadata": {
    "collapsed": false,
    "ExecuteTime": {
     "end_time": "2024-07-21T06:38:05.168225Z",
     "start_time": "2024-07-21T06:38:05.081783Z"
    }
   },
   "id": "f36f177859eb6875"
  },
  {
   "cell_type": "code",
   "execution_count": 24,
   "outputs": [
    {
     "data": {
      "text/plain": "['0b1', '0b10', '0b11', '0b100', '0b101']"
     },
     "execution_count": 24,
     "metadata": {},
     "output_type": "execute_result"
    }
   ],
   "source": [
    "#convert strings to binary\n",
    "list(map(bin, numbers))"
   ],
   "metadata": {
    "collapsed": false,
    "ExecuteTime": {
     "end_time": "2024-07-21T06:39:07.414790Z",
     "start_time": "2024-07-21T06:39:07.402148Z"
    }
   },
   "id": "877b85dc137fe831"
  },
  {
   "cell_type": "code",
   "execution_count": 25,
   "outputs": [
    {
     "data": {
      "text/plain": "['Prefix_Andrew',\n 'Prefix_Thapa',\n 'Prefix_is',\n 'Prefix_my',\n 'Prefix_name',\n 'Prefix_And',\n 'Prefix_I',\n 'Prefix_Love',\n 'Prefix_being',\n 'Prefix_here']"
     },
     "execution_count": 25,
     "metadata": {},
     "output_type": "execute_result"
    }
   ],
   "source": [
    "#Add prefix to each word in the list of letters\n",
    "list(map(lambda str: 'Prefix_'+str, strings))"
   ],
   "metadata": {
    "collapsed": false,
    "ExecuteTime": {
     "end_time": "2024-07-21T06:40:09.257346Z",
     "start_time": "2024-07-21T06:40:09.232898Z"
    }
   },
   "id": "b0f2fb2e980b1cee"
  },
  {
   "cell_type": "code",
   "execution_count": 26,
   "outputs": [],
   "source": [
    "#Format the price\n",
    "prices =[9.99, 19.99, 24.99, 34.99]"
   ],
   "metadata": {
    "collapsed": false,
    "ExecuteTime": {
     "end_time": "2024-07-21T06:40:41.114300Z",
     "start_time": "2024-07-21T06:40:41.102838Z"
    }
   },
   "id": "17854c161bdd7df4"
  },
  {
   "cell_type": "code",
   "execution_count": 28,
   "outputs": [],
   "source": [
    "def format_price(price):\n",
    "    return '${:.2f}'.format(price)"
   ],
   "metadata": {
    "collapsed": false,
    "ExecuteTime": {
     "end_time": "2024-07-21T06:41:54.036072Z",
     "start_time": "2024-07-21T06:41:54.025262Z"
    }
   },
   "id": "ce921034164665e6"
  },
  {
   "cell_type": "code",
   "execution_count": 29,
   "outputs": [
    {
     "data": {
      "text/plain": "['$9.99', '$19.99', '$24.99', '$34.99']"
     },
     "execution_count": 29,
     "metadata": {},
     "output_type": "execute_result"
    }
   ],
   "source": [
    "list(map(format_price, prices))"
   ],
   "metadata": {
    "collapsed": false,
    "ExecuteTime": {
     "end_time": "2024-07-21T06:41:54.589327Z",
     "start_time": "2024-07-21T06:41:54.579692Z"
    }
   },
   "id": "ce80af536b7d9602"
  }
 ],
 "metadata": {
  "kernelspec": {
   "display_name": "Python 3",
   "language": "python",
   "name": "python3"
  },
  "language_info": {
   "codemirror_mode": {
    "name": "ipython",
    "version": 2
   },
   "file_extension": ".py",
   "mimetype": "text/x-python",
   "name": "python",
   "nbconvert_exporter": "python",
   "pygments_lexer": "ipython2",
   "version": "2.7.6"
  }
 },
 "nbformat": 4,
 "nbformat_minor": 5
}
