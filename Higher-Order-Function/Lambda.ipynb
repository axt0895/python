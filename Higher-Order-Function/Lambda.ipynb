{
 "cells": [
  {
   "cell_type": "raw",
   "source": [
    "Add two numbers "
   ],
   "metadata": {
    "collapsed": false
   },
   "id": "bb129b9781c3cd15"
  },
  {
   "cell_type": "code",
   "execution_count": 21,
   "outputs": [
    {
     "data": {
      "text/plain": "13"
     },
     "execution_count": 21,
     "metadata": {},
     "output_type": "execute_result"
    }
   ],
   "source": [
    "add = lambda a,b:a+b\n",
    "add(6,7)"
   ],
   "metadata": {
    "collapsed": false,
    "ExecuteTime": {
     "end_time": "2024-07-21T06:14:32.614596Z",
     "start_time": "2024-07-21T06:14:32.597876Z"
    }
   },
   "id": "f1e6e26ecd6be254"
  },
  {
   "cell_type": "code",
   "execution_count": 23,
   "outputs": [
    {
     "data": {
      "text/plain": "1"
     },
     "execution_count": 23,
     "metadata": {},
     "output_type": "execute_result"
    }
   ],
   "source": [
    "#Subtract two numbers\n",
    "\n",
    "subtract = lambda a,b:a-b\n",
    "subtract(9,8)"
   ],
   "metadata": {
    "collapsed": false,
    "ExecuteTime": {
     "end_time": "2024-07-21T06:15:11.274957Z",
     "start_time": "2024-07-21T06:15:11.259219Z"
    }
   },
   "id": "7db0b7f21d775f25"
  },
  {
   "cell_type": "code",
   "execution_count": 24,
   "outputs": [
    {
     "data": {
      "text/plain": "5.0"
     },
     "execution_count": 24,
     "metadata": {},
     "output_type": "execute_result"
    }
   ],
   "source": [
    "#divide two number\n",
    "\n",
    "divide = lambda a,b:a/b\n",
    "divide(10,2)"
   ],
   "metadata": {
    "collapsed": false,
    "ExecuteTime": {
     "end_time": "2024-07-21T06:15:29.194139Z",
     "start_time": "2024-07-21T06:15:29.128105Z"
    }
   },
   "id": "508000c0d2da4216"
  },
  {
   "cell_type": "code",
   "execution_count": 25,
   "outputs": [
    {
     "data": {
      "text/plain": "150"
     },
     "execution_count": 25,
     "metadata": {},
     "output_type": "execute_result"
    }
   ],
   "source": [
    "#multiply two number\n",
    "multiply = lambda a,b,c:a*b*c\n",
    "multiply(10,3,5)"
   ],
   "metadata": {
    "collapsed": false,
    "ExecuteTime": {
     "end_time": "2024-07-21T06:15:51.706443Z",
     "start_time": "2024-07-21T06:15:51.690513Z"
    }
   },
   "id": "fa8be4e8cb2ead32"
  },
  {
   "cell_type": "code",
   "execution_count": 26,
   "outputs": [
    {
     "data": {
      "text/plain": "12"
     },
     "execution_count": 26,
     "metadata": {},
     "output_type": "execute_result"
    }
   ],
   "source": [
    "#count the length of a string\n",
    "length_finder = lambda str: len(str)\n",
    "length_finder('Andrew Thapa')"
   ],
   "metadata": {
    "collapsed": false,
    "ExecuteTime": {
     "end_time": "2024-07-21T06:16:23.806534Z",
     "start_time": "2024-07-21T06:16:23.786581Z"
    }
   },
   "id": "41a15cd082a6ade0"
  },
  {
   "cell_type": "code",
   "execution_count": 27,
   "outputs": [
    {
     "data": {
      "text/plain": "100"
     },
     "execution_count": 27,
     "metadata": {},
     "output_type": "execute_result"
    }
   ],
   "source": [
    "#find the maximum \n",
    "maximum = lambda a,b,*c: max(a,b,*c)\n",
    "maximum(5,6,87,100)"
   ],
   "metadata": {
    "collapsed": false,
    "ExecuteTime": {
     "end_time": "2024-07-21T06:16:59.375432Z",
     "start_time": "2024-07-21T06:16:59.360068Z"
    }
   },
   "id": "2dab065d8430d736"
  },
  {
   "cell_type": "code",
   "execution_count": 29,
   "outputs": [
    {
     "data": {
      "text/plain": "True"
     },
     "execution_count": 29,
     "metadata": {},
     "output_type": "execute_result"
    }
   ],
   "source": [
    "#check if the number is even or odd\n",
    "even_checker = lambda num:num % 2 ==0\n",
    "even_checker(10)"
   ],
   "metadata": {
    "collapsed": false,
    "ExecuteTime": {
     "end_time": "2024-07-21T06:17:41.785039Z",
     "start_time": "2024-07-21T06:17:41.778156Z"
    }
   },
   "id": "3999631e77ad2f4c"
  },
  {
   "cell_type": "code",
   "execution_count": 32,
   "outputs": [
    {
     "data": {
      "text/plain": "88.60000000000001"
     },
     "execution_count": 32,
     "metadata": {},
     "output_type": "execute_result"
    }
   ],
   "source": [
    "#change temp to celcius\n",
    "temp_to_celcius = lambda farenhiet: 9/5 *farenhiet-32\n",
    "temp_to_celcius(67)"
   ],
   "metadata": {
    "collapsed": false,
    "ExecuteTime": {
     "end_time": "2024-07-21T06:18:44.566045Z",
     "start_time": "2024-07-21T06:18:44.557743Z"
    }
   },
   "id": "e1bfb1c754f79d7c"
  },
  {
   "cell_type": "code",
   "execution_count": 34,
   "outputs": [
    {
     "data": {
      "text/plain": "'AndrewThapa'"
     },
     "execution_count": 34,
     "metadata": {},
     "output_type": "execute_result"
    }
   ],
   "source": [
    "#concatenate two string\n",
    "\n",
    "concatenate = lambda str1, str2: str1 + str2\n",
    "concatenate('Andrew', 'Thapa')"
   ],
   "metadata": {
    "collapsed": false,
    "ExecuteTime": {
     "end_time": "2024-07-21T06:19:30.808914Z",
     "start_time": "2024-07-21T06:19:30.799843Z"
    }
   },
   "id": "133206093f1a6e7d"
  },
  {
   "cell_type": "code",
   "execution_count": 35,
   "outputs": [
    {
     "data": {
      "text/plain": "5.0"
     },
     "execution_count": 35,
     "metadata": {},
     "output_type": "execute_result"
    }
   ],
   "source": [
    "import math\n",
    "\n",
    "#calculate square root of a number\n",
    "square_root= lambda num: math.sqrt(num)\n",
    "square_root(25)"
   ],
   "metadata": {
    "collapsed": false,
    "ExecuteTime": {
     "end_time": "2024-07-21T06:20:21.240446Z",
     "start_time": "2024-07-21T06:20:21.218488Z"
    }
   },
   "id": "6ce6b392efc46e8b"
  },
  {
   "cell_type": "code",
   "execution_count": 36,
   "outputs": [
    {
     "data": {
      "text/plain": "'werdnA'"
     },
     "execution_count": 36,
     "metadata": {},
     "output_type": "execute_result"
    }
   ],
   "source": [
    "#reverse a string\n",
    "reversed_string = lambda str: str[::-1]\n",
    "reversed_string('Andrew')"
   ],
   "metadata": {
    "collapsed": false,
    "ExecuteTime": {
     "end_time": "2024-07-21T06:20:48.454533Z",
     "start_time": "2024-07-21T06:20:48.425367Z"
    }
   },
   "id": "e60083e5c0012238"
  }
 ],
 "metadata": {
  "kernelspec": {
   "display_name": "Python 3",
   "language": "python",
   "name": "python3"
  },
  "language_info": {
   "codemirror_mode": {
    "name": "ipython",
    "version": 2
   },
   "file_extension": ".py",
   "mimetype": "text/x-python",
   "name": "python",
   "nbconvert_exporter": "python",
   "pygments_lexer": "ipython2",
   "version": "2.7.6"
  }
 },
 "nbformat": 4,
 "nbformat_minor": 5
}
